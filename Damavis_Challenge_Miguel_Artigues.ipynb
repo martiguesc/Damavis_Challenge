{
 "cells": [
  {
   "cell_type": "code",
   "execution_count": 4,
   "id": "9099d8ef",
   "metadata": {},
   "outputs": [],
   "source": [
    "import copy\n",
    "\n",
    "def numberOfAvailableDifferentPaths(board, snake, depth):\n",
    "    def new_snake(position,snake,n,m):\n",
    "        s=copy.deepcopy(snake)\n",
    "        if position=='L':\n",
    "            s.insert(0,[s[0][0],s[0][1]-1])\n",
    "            s.pop(-1)\n",
    "            if s[0][1]<0:\n",
    "                return -1\n",
    "        elif position=='R':\n",
    "            s.insert(0,[s[0][0],s[0][1]+1])\n",
    "            s.pop(-1)\n",
    "            if s[0][1]>m-1:\n",
    "                return -1\n",
    "        elif position=='U':\n",
    "            s.insert(0,[s[0][0]-1,s[0][1]])\n",
    "            s.pop(-1)\n",
    "            if s[0][0]<0:\n",
    "                return -1\n",
    "        elif position=='D':\n",
    "            s.insert(0,[s[0][0]+1,s[0][1]])\n",
    "            s.pop(-1)\n",
    "            if s[0][0]>n-1:\n",
    "                return -1\n",
    "            \n",
    "        for val in s[1:]:\n",
    "            if val==s[0]:\n",
    "                return -1\n",
    "                    \n",
    "        return s\n",
    "    \n",
    "    if len(board)!=2:\n",
    "        return \"Invalid board format\"\n",
    "    if len(snake)>7 or len(snake)<3:\n",
    "        return \"Snake length must be between 3 and 7\"\n",
    "    if depth<1 or depth>20:\n",
    "        return \"Depth value must be between 1 and 20\"\n",
    "    \n",
    "    n,m=board\n",
    "    \n",
    "    paths=[[]]*(depth+1)\n",
    "    paths[0]=[snake]\n",
    "   \n",
    "    paths_ant=[snake]\n",
    "    \n",
    "    for i in range(0,depth):\n",
    "        paths_act=[]\n",
    "        for path in paths_ant:\n",
    "            sn=copy.deepcopy(path)\n",
    "            for position in ['L','R','U','D']:\n",
    "                new_s=new_snake(position,sn,n,m)\n",
    "                if new_s!=-1:\n",
    "                    paths_act.append(new_s)\n",
    "                                \n",
    "        paths_ant=copy.deepcopy(paths_act)\n",
    "            \n",
    "    return len(paths_act)"
   ]
  },
  {
   "cell_type": "code",
   "execution_count": 8,
   "id": "68e491ae",
   "metadata": {},
   "outputs": [
    {
     "data": {
      "text/plain": [
       "7"
      ]
     },
     "execution_count": 8,
     "metadata": {},
     "output_type": "execute_result"
    }
   ],
   "source": [
    "numberOfAvailableDifferentPaths([4,3],[[2,2], [3,2], [3,1], [3,0], [2,0], [1,0], [0,0]], 3)"
   ]
  },
  {
   "cell_type": "code",
   "execution_count": 5,
   "id": "480a81dd",
   "metadata": {},
   "outputs": [
    {
     "data": {
      "text/plain": [
       "1"
      ]
     },
     "execution_count": 5,
     "metadata": {},
     "output_type": "execute_result"
    }
   ],
   "source": [
    "numberOfAvailableDifferentPaths([2, 3], [[0,2], [0,1], [0,0], [1,0], [1,1], [1,2]], 10)"
   ]
  },
  {
   "cell_type": "code",
   "execution_count": 7,
   "id": "6db9f431",
   "metadata": {},
   "outputs": [
    {
     "data": {
      "text/plain": [
       "81"
      ]
     },
     "execution_count": 7,
     "metadata": {},
     "output_type": "execute_result"
    }
   ],
   "source": [
    "numberOfAvailableDifferentPaths([10, 10],[[5,5], [5,4], [4,4], [4,5]], 4)"
   ]
  }
 ],
 "metadata": {
  "kernelspec": {
   "display_name": "Python 3",
   "language": "python",
   "name": "python3"
  },
  "language_info": {
   "codemirror_mode": {
    "name": "ipython",
    "version": 3
   },
   "file_extension": ".py",
   "mimetype": "text/x-python",
   "name": "python",
   "nbconvert_exporter": "python",
   "pygments_lexer": "ipython3",
   "version": "3.9.4"
  }
 },
 "nbformat": 4,
 "nbformat_minor": 5
}
